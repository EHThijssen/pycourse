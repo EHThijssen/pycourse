{
 "cells": [
  {
   "cell_type": "code",
   "execution_count": 2,
   "metadata": {
    "collapsed": false
   },
   "outputs": [
    {
     "name": "stdout",
     "output_type": "stream",
     "text": [
      "I'm ready for my life to be improved\n"
     ]
    }
   ],
   "source": [
    "## This is a short demonstration of some of the things\n",
    "## python can do for you, and a preview to some of the\n",
    "## things we'll learn in the course\n",
    "\n",
    "print('I\\'m ready for my life to be improved')"
   ]
  },
  {
   "cell_type": "code",
   "execution_count": 3,
   "metadata": {
    "collapsed": false
   },
   "outputs": [],
   "source": [
    "## Lets import some modules we'll need later!\n",
    "## This might take a minute. You can tell the cell is still\n",
    "## working because of the little [*] next to the 'ln' symbol \n",
    "## to the left.\n",
    "\n",
    "import os\n",
    "import subprocess\n",
    "import math\n",
    "from scipy import stats,linalg\n",
    "import pandas\n",
    "from glob import glob\n",
    "import numpy as np\n",
    "import nibabel as ni\n",
    "import networkx as nx\n",
    "from matplotlib import pyplot,patches\n"
   ]
  },
  {
   "cell_type": "code",
   "execution_count": 4,
   "metadata": {
    "collapsed": false
   },
   "outputs": [
    {
     "data": {
      "text/plain": [
       "['.git',\n",
       " '.ipynb_checkpoints',\n",
       " 'empty_fl_0',\n",
       " 'empty_fl_1',\n",
       " 'empty_fl_2',\n",
       " 'empty_fl_3',\n",
       " 'empty_fl_4',\n",
       " 'empty_fl_5',\n",
       " 'empty_fl_6',\n",
       " 'empty_fl_7',\n",
       " 'empty_fl_8',\n",
       " 'empty_fl_9',\n",
       " 'PyDemo.ipynb',\n",
       " 'README.md',\n",
       " 'stuff']"
      ]
     },
     "execution_count": 4,
     "metadata": {},
     "output_type": "execute_result"
    }
   ],
   "source": [
    "################ PART 1: COMMAND LINE ###################\n",
    "## First, I'll show you a bit about how python can help you automate\n",
    "## command line functions\n",
    "\n",
    "# let's create a few empty files for demonstration purposes\n",
    "for i in range(10):\n",
    "    os.system('touch empty_fl_%s'%i)\n",
    "os.listdir()"
   ]
  },
  {
   "cell_type": "code",
   "execution_count": 5,
   "metadata": {
    "collapsed": false
   },
   "outputs": [
    {
     "name": "stdout",
     "output_type": "stream",
     "text": [
      "here is a list of the IDs we've generated\n",
      "[1015, 1110, 1176, 2152, 2536, 2622, 2668, 3260, 3429, 3924]\n",
      "\n",
      "\n",
      "here are the files\n",
      "['/Users/jakevogel/git/pycourse_vuMC/empty_fl_0', '/Users/jakevogel/git/pycourse_vuMC/empty_fl_1', '/Users/jakevogel/git/pycourse_vuMC/empty_fl_2', '/Users/jakevogel/git/pycourse_vuMC/empty_fl_3', '/Users/jakevogel/git/pycourse_vuMC/empty_fl_4', '/Users/jakevogel/git/pycourse_vuMC/empty_fl_5', '/Users/jakevogel/git/pycourse_vuMC/empty_fl_6', '/Users/jakevogel/git/pycourse_vuMC/empty_fl_7', '/Users/jakevogel/git/pycourse_vuMC/empty_fl_8', '/Users/jakevogel/git/pycourse_vuMC/empty_fl_9']\n",
      "\n",
      "\n",
      "here are the directoy contents\n"
     ]
    },
    {
     "data": {
      "text/plain": [
       "['.git',\n",
       " '.ipynb_checkpoints',\n",
       " 'empty_fl_s1015',\n",
       " 'empty_fl_s1110',\n",
       " 'empty_fl_s1176',\n",
       " 'empty_fl_s2152',\n",
       " 'empty_fl_s2536',\n",
       " 'empty_fl_s2622',\n",
       " 'empty_fl_s2668',\n",
       " 'empty_fl_s3260',\n",
       " 'empty_fl_s3429',\n",
       " 'empty_fl_s3924',\n",
       " 'PyDemo.ipynb',\n",
       " 'README.md',\n",
       " 'stuff']"
      ]
     },
     "execution_count": 5,
     "metadata": {},
     "output_type": "execute_result"
    }
   ],
   "source": [
    "# let's say we want to rename these files given a list of subject IDs\n",
    "\n",
    "# generate a list of random subject IDs\n",
    "ids = np.random.randint(1000,5000,10)\n",
    "print('here is a list of the IDs we\\'ve generated')\n",
    "print(sorted(ids))\n",
    "print('\\n')\n",
    "\n",
    "# collect files that we created\n",
    "fls = sorted(glob(os.path.join(os.getcwd(),'empty_fl*')))\n",
    "print('here are the files')\n",
    "print(fls)\n",
    "print ('\\n')\n",
    "\n",
    "# rename files using subject IDs\n",
    "for i,fl in enumerate(fls):\n",
    "    pth,flnm = os.path.split(fl)\n",
    "    fl_parts = flnm.split('_')\n",
    "    os.system('mv %s %s'%(fl,os.path.join(pth,'%s_%s_s%s'%(fl_parts[0],fl_parts[1],ids[i]))))\n",
    "\n",
    "# now we'll list contents again to see if the files were renamed\n",
    "print('here are the directoy contents')\n",
    "os.listdir()"
   ]
  },
  {
   "cell_type": "code",
   "execution_count": 6,
   "metadata": {
    "collapsed": false
   },
   "outputs": [
    {
     "name": "stdout",
     "output_type": "stream",
     "text": [
      "directory contents\n"
     ]
    },
    {
     "data": {
      "text/plain": [
       "['.git', '.ipynb_checkpoints', 'PyDemo.ipynb', 'README.md', 'stuff']"
      ]
     },
     "execution_count": 6,
     "metadata": {},
     "output_type": "execute_result"
    }
   ],
   "source": [
    "# now lets get rid of those files.. we don't need them\n",
    "os.system('rm empty*')\n",
    "\n",
    "print('directory contents')\n",
    "os.listdir()"
   ]
  },
  {
   "cell_type": "code",
   "execution_count": 7,
   "metadata": {
    "collapsed": false
   },
   "outputs": [
    {
     "name": "stdout",
     "output_type": "stream",
     "text": [
      "here is a list of our subjects\n",
      "['/Users/jakevogel/git/pycourse_vuMC/stuff/rw_164071.nii.gz', '/Users/jakevogel/git/pycourse_vuMC/stuff/rw_164879.nii.gz', '/Users/jakevogel/git/pycourse_vuMC/stuff/rw_165177.nii.gz']\n",
      "\n",
      " and our mask\n",
      "/Users/jakevogel/git/pycourse_vuMC/stuff/networks_scale7.nii.gz\n"
     ]
    }
   ],
   "source": [
    "## Python can be used to automate any terminal commands\n",
    "## This includes neuroimaging tools like fsl. \n",
    "## Here, we will extract average effect (t) values for three \n",
    "## different subjects within a set of 7 masks taken from an \n",
    "## atlas of functional brain networks\n",
    "\n",
    "# collect subjects and atlas\n",
    "stuff_dir = os.path.join(pth,'stuff')\n",
    "subs = sorted(glob(os.path.join(stuff_dir,'rw*')))\n",
    "msk = os.path.join(stuff_dir,'networks_scale7.nii.gz')\n",
    "print('here is a list of our subjects')\n",
    "print(subs)\n",
    "print('\\n and our mask')\n",
    "print(msk)\n",
    "\n"
   ]
  },
  {
   "cell_type": "code",
   "execution_count": 8,
   "metadata": {
    "collapsed": false
   },
   "outputs": [
    {
     "name": "stdout",
     "output_type": "stream",
     "text": [
      "          network_0 network_1 network_2 network_3 network_4 network_5  \\\n",
      "rw_164071       NaN       NaN       NaN       NaN       NaN       NaN   \n",
      "rw_164879       NaN       NaN       NaN       NaN       NaN       NaN   \n",
      "rw_165177       NaN       NaN       NaN       NaN       NaN       NaN   \n",
      "\n",
      "          network_6  \n",
      "rw_164071       NaN  \n",
      "rw_164879       NaN  \n",
      "rw_165177       NaN  \n"
     ]
    }
   ],
   "source": [
    "# lets also make a dataframe to collect the values\n",
    "sub_ids = []\n",
    "for sub in subs:\n",
    "    sid = os.path.split(sub)[1].split('.')[0]\n",
    "    sub_ids.append(sid)\n",
    "\n",
    "cols = []\n",
    "for i in range(7):\n",
    "    cols.append('network_%s'%i)\n",
    " \n",
    "df = pandas.DataFrame(index=sub_ids,columns=cols)\n",
    "print(df)"
   ]
  },
  {
   "cell_type": "code",
   "execution_count": 9,
   "metadata": {
    "collapsed": false
   },
   "outputs": [
    {
     "name": "stdout",
     "output_type": "stream",
     "text": [
      "the mean value for subject rw_164071 in network 0 is -0.401862\n",
      "the mean value for subject rw_164879 in network 0 is -0.550005\n",
      "the mean value for subject rw_165177 in network 0 is -0.484047\n",
      "the mean value for subject rw_164071 in network 1 is -0.370646\n",
      "the mean value for subject rw_164879 in network 1 is -0.70153\n",
      "the mean value for subject rw_165177 in network 1 is -0.084874\n",
      "the mean value for subject rw_164071 in network 2 is 0.046695\n",
      "the mean value for subject rw_164879 in network 2 is -0.474224\n",
      "the mean value for subject rw_165177 in network 2 is 0.244014\n",
      "the mean value for subject rw_164071 in network 3 is -0.359564\n",
      "the mean value for subject rw_164879 in network 3 is -0.335933\n",
      "the mean value for subject rw_165177 in network 3 is -0.50387\n",
      "the mean value for subject rw_164071 in network 4 is -0.005683\n",
      "the mean value for subject rw_164879 in network 4 is -0.464728\n",
      "the mean value for subject rw_165177 in network 4 is -0.379618\n",
      "the mean value for subject rw_164071 in network 5 is -0.000927\n",
      "the mean value for subject rw_164879 in network 5 is -0.153233\n",
      "the mean value for subject rw_165177 in network 5 is -0.45019\n",
      "the mean value for subject rw_164071 in network 6 is -0.127058\n",
      "the mean value for subject rw_164879 in network 6 is -0.218117\n",
      "the mean value for subject rw_165177 in network 6 is -0.245535\n",
      "\n",
      " and here is our dataframe again with the values filled in \n",
      "\n",
      "          network_0 network_1 network_2 network_3 network_4 network_5  \\\n",
      "rw_164071 -0.401862 -0.370646  0.046695 -0.359564 -0.005683 -0.000927   \n",
      "rw_164879 -0.550005  -0.70153 -0.474224 -0.335933 -0.464728 -0.153233   \n",
      "rw_165177 -0.484047 -0.084874  0.244014  -0.50387 -0.379618  -0.45019   \n",
      "\n",
      "          network_6  \n",
      "rw_164071 -0.127058  \n",
      "rw_164879 -0.218117  \n",
      "rw_165177 -0.245535  \n"
     ]
    }
   ],
   "source": [
    "# now lets actually perform the command\n",
    "\n",
    "# go to the director\n",
    "os.chdir(stuff_dir)\n",
    "\n",
    "# for each network\n",
    "for i in range(7):\n",
    "    # make mask of network using fslmaths\n",
    "    os.system('fslmaths %s -thr %s -uthr %s msk%s'%(msk,(i+1),(i+1),i)) \n",
    "    # for each subject\n",
    "    for x,sub in enumerate(subs):\n",
    "        # mask subject with mask using fslmaths\n",
    "        os.system('fslmaths %s -mas msk%s.nii.gz mskd_img'%(sub,i))\n",
    "        # get mean within mask by reading output from fslstats command\n",
    "        val = float(subprocess.check_output('fslstats mskd_img.nii.gz -M',shell=True))\n",
    "        # print value to keep track of progress\n",
    "        print('the mean value for subject %s in network %s is %s'%(sub_ids[x],i,val))\n",
    "        # write to DataFrame\n",
    "        df.ix[sub_ids[x],'network_%s'%(i)] = val\n",
    "\n",
    "print('\\n and here is our dataframe again with the values filled in \\n')\n",
    "print(df)\n",
    "    "
   ]
  },
  {
   "cell_type": "code",
   "execution_count": 73,
   "metadata": {
    "collapsed": false
   },
   "outputs": [
    {
     "name": "stdout",
     "output_type": "stream",
     "text": [
      "           network_0  network_1  network_2  network_3  network_4  network_5  \\\n",
      "rw_164071  -0.401862  -0.370646   0.046695  -0.359564  -0.005683  -0.000927   \n",
      "rw_164879  -0.550005  -0.701530  -0.474224  -0.335933  -0.464728  -0.153233   \n",
      "rw_165177  -0.484047  -0.084874   0.244014  -0.503870  -0.379618  -0.450190   \n",
      "\n",
      "           network_6  z_network_0  z_network_1  z_network_2  z_network_3  \\\n",
      "rw_164071  -0.127058          NaN          NaN          NaN          NaN   \n",
      "rw_164879  -0.218117          NaN          NaN          NaN          NaN   \n",
      "rw_165177  -0.245535          NaN          NaN          NaN          NaN   \n",
      "\n",
      "           z_network_4  z_network_5  z_network_6  \n",
      "rw_164071          NaN          NaN          NaN  \n",
      "rw_164879          NaN          NaN          NaN  \n",
      "rw_165177          NaN          NaN          NaN   \n",
      "\n",
      "slicing is easy: \n",
      "\n",
      "all network for subject rw_164071\n",
      "network_0     -0.401862\n",
      "network_1     -0.370646\n",
      "network_2      0.046695\n",
      "network_3     -0.359564\n",
      "network_4     -0.005683\n",
      "network_5     -0.000927\n",
      "network_6     -0.127058\n",
      "z_network_0         NaN\n",
      "z_network_1         NaN\n",
      "z_network_2         NaN\n",
      "z_network_3         NaN\n",
      "z_network_4         NaN\n",
      "z_network_5         NaN\n",
      "z_network_6         NaN\n",
      "Name: rw_164071, dtype: float64 \n",
      "\n",
      "all subject values for network 0\n",
      "rw_164071   -0.401862\n",
      "rw_164879   -0.550005\n",
      "rw_165177   -0.484047\n",
      "Name: network_0, dtype: float64 \n",
      "\n",
      "so is indexing: \n",
      "\n",
      "value for subject rw_164879, network 4\n",
      "-0.464728\n"
     ]
    }
   ],
   "source": [
    "######### PART 2: SPREADSHEETS ############\n",
    "## Using pandas lets us open spreadsheets with ease\n",
    "\n",
    "# let's turn that dataframe into an actual file that can be read\n",
    "# what are our options?\n",
    "#df.to_\n",
    "\n",
    "df.to_excel('networks.xls')\n",
    "os.listdir()\n",
    "\n",
    "# we can also read in files of almost any text type using pandas\n",
    "ndf = pandas.ExcelFile('networks.xls').parse('Sheet1')\n",
    "\n",
    "print(ndf,'\\n')\n",
    "\n",
    "print('slicing is easy: \\n')\n",
    "\n",
    "print('all network for subject %s'%(sub_ids[0]))\n",
    "print(ndf.ix[sub_ids[0]],'\\n')\n",
    "print('all subject values for network 0')\n",
    "print(ndf.ix[:,cols[0]],'\\n')\n",
    "\n",
    "print('so is indexing: \\n')\n",
    "print('value for subject %s, network 4'%(sub_ids[1]))\n",
    "print(ndf.ix[sub_ids[1],cols[4]])\n"
   ]
  },
  {
   "cell_type": "code",
   "execution_count": 10,
   "metadata": {
    "collapsed": false
   },
   "outputs": [
    {
     "name": "stdout",
     "output_type": "stream",
     "text": [
      "slicing is easy: \n",
      "\n",
      "all network for subject rw_164071\n"
     ]
    },
    {
     "ename": "NameError",
     "evalue": "name 'ndf' is not defined",
     "output_type": "error",
     "traceback": [
      "\u001b[0;31m---------------------------------------------------------------------------\u001b[0m",
      "\u001b[0;31mNameError\u001b[0m                                 Traceback (most recent call last)",
      "\u001b[0;32m<ipython-input-10-50339dcc3ac7>\u001b[0m in \u001b[0;36m<module>\u001b[0;34m()\u001b[0m\n\u001b[1;32m      3\u001b[0m \u001b[0;34m\u001b[0m\u001b[0m\n\u001b[1;32m      4\u001b[0m \u001b[0mprint\u001b[0m\u001b[0;34m(\u001b[0m\u001b[0;34m'all network for subject %s'\u001b[0m\u001b[0;34m%\u001b[0m\u001b[0;34m(\u001b[0m\u001b[0msub_ids\u001b[0m\u001b[0;34m[\u001b[0m\u001b[0;36m0\u001b[0m\u001b[0;34m]\u001b[0m\u001b[0;34m)\u001b[0m\u001b[0;34m)\u001b[0m\u001b[0;34m\u001b[0m\u001b[0m\n\u001b[0;32m----> 5\u001b[0;31m \u001b[0mprint\u001b[0m\u001b[0;34m(\u001b[0m\u001b[0mndf\u001b[0m\u001b[0;34m.\u001b[0m\u001b[0mix\u001b[0m\u001b[0;34m[\u001b[0m\u001b[0msub_ids\u001b[0m\u001b[0;34m[\u001b[0m\u001b[0;36m0\u001b[0m\u001b[0;34m]\u001b[0m\u001b[0;34m]\u001b[0m\u001b[0;34m,\u001b[0m\u001b[0;34m'\\n'\u001b[0m\u001b[0;34m)\u001b[0m\u001b[0;34m\u001b[0m\u001b[0m\n\u001b[0m\u001b[1;32m      6\u001b[0m \u001b[0mprint\u001b[0m\u001b[0;34m(\u001b[0m\u001b[0;34m'all subject values for network 0'\u001b[0m\u001b[0;34m)\u001b[0m\u001b[0;34m\u001b[0m\u001b[0m\n\u001b[1;32m      7\u001b[0m \u001b[0mprint\u001b[0m\u001b[0;34m(\u001b[0m\u001b[0mndf\u001b[0m\u001b[0;34m.\u001b[0m\u001b[0mix\u001b[0m\u001b[0;34m[\u001b[0m\u001b[0;34m:\u001b[0m\u001b[0;34m,\u001b[0m\u001b[0mcols\u001b[0m\u001b[0;34m[\u001b[0m\u001b[0;36m0\u001b[0m\u001b[0;34m]\u001b[0m\u001b[0;34m]\u001b[0m\u001b[0;34m,\u001b[0m\u001b[0;34m'\\n'\u001b[0m\u001b[0;34m)\u001b[0m\u001b[0;34m\u001b[0m\u001b[0m\n",
      "\u001b[0;31mNameError\u001b[0m: name 'ndf' is not defined"
     ]
    }
   ],
   "source": [
    "# there are many nice features of pandas\n",
    "print('slicing is easy: \\n')\n",
    "\n",
    "print('all network for subject %s'%(sub_ids[0]))\n",
    "print(ndf.ix[sub_ids[0]],'\\n')\n",
    "print('all subject values for network 0')\n",
    "print(ndf.ix[:,cols[0]],'\\n')\n",
    "\n",
    "print('so is indexing: \\n')\n",
    "print('value for subject %s, network 4'%(sub_ids[1]))\n",
    "print(ndf.ix[sub_ids[1],cols[4]],'\\n')\n",
    "\n",
    "# print('there also many things you can do to summarize or manipulate individual slices \\n')\n",
    "# slc = ndf.ix[:,cols[0]]\n",
    "\n",
    "# print(slc.mean())"
   ]
  },
  {
   "cell_type": "code",
   "execution_count": 13,
   "metadata": {
    "collapsed": false
   },
   "outputs": [
    {
     "name": "stdout",
     "output_type": "stream",
     "text": [
      "here are the means and sds for each network \n",
      "\n",
      "{'network_2': (-0.061171666666666659, 0.37106989839426929), 'network_3': (-0.39978900000000001, 0.090907903732293849), 'network_5': (-0.20144999999999999, 0.22847969299042747), 'network_6': (-0.19690333333333335, 0.062021888251917429), 'network_0': (-0.47863799999999995, 0.074219472330379704), 'network_4': (-0.28334299999999996, 0.24419712267960897), 'network_1': (-0.38568333333333332, 0.30860289471962726)} \n",
      "\n",
      "here are the new z-scored values\n",
      "           z_network_0  z_network_1  z_network_2  z_network_3  z_network_4  \\\n",
      "rw_164071     1.034446     0.048727     0.290691     0.442481     1.137032   \n",
      "rw_164879    -0.961567    -1.023473    -1.113139     0.702425    -0.742781   \n",
      "rw_165177    -0.072878     0.974746     0.822448    -1.144906    -0.394251   \n",
      "\n",
      "           z_network_5  z_network_6  \n",
      "rw_164071     0.877640     1.126140  \n",
      "rw_164879     0.211034    -0.342035  \n",
      "rw_165177    -1.088674    -0.784105  \n"
     ]
    }
   ],
   "source": [
    "########## PART 3: MATH AND STATS ############\n",
    "## Python has an array of different libraries available for performing \n",
    "## mathematical operations. This ranges from sympol mathematical commmands\n",
    "## to basic stats like regression/t-tests, to complex deep learning\n",
    "## algorithms such as clustering and support vector machines.\n",
    "\n",
    "# lets make z-scores for each network from the data we just produced\n",
    "\n",
    "# first we'll make a quick z-score function\n",
    "def z_score(val,mn,sd): \n",
    "    scr = (val - mn) / sd\n",
    "    return scr\n",
    "\n",
    "# next, we'll assess get the means and SDs of each network and store them\n",
    "# in a dictionary\n",
    "net_stz = {}\n",
    "for i in range(7):\n",
    "    slc = df[:]['network_%s'%(i)]\n",
    "    net_stz.update({'network_%s'%(i): (slc.mean(),slc.std())})\n",
    "print('here are the means and sds for each network \\n')\n",
    "print(net_stz,'\\n')\n",
    "    \n",
    "# now we'll apply it to each subject's data\n",
    "for sub in df.index.tolist():\n",
    "    for col in cols:\n",
    "        val = df.ix[sub,col]\n",
    "        df.ix[sub,'z_%s'%(col)] = z_score(val,net_stz[col][0],net_stz[col][1])\n",
    "\n",
    "print('here are the new z-scored values')\n",
    "print(df[:][df.columns[7:]])\n",
    "        "
   ]
  },
  {
   "cell_type": "code",
   "execution_count": 14,
   "metadata": {
    "collapsed": false
   },
   "outputs": [
    {
     "name": "stdout",
     "output_type": "stream",
     "text": [
      "here is our matrix \n",
      " [[ 0.36250667  0.29166018  0.34297761 ...,  0.71361979  0.61997982\n",
      "   0.08441318]\n",
      " [ 0.29166018  0.4056049   0.70748212 ...,  0.39600683  0.16194301\n",
      "   0.20387892]\n",
      " [ 0.34297761  0.70748212  0.90471658 ...,  0.73179298  0.54382383\n",
      "   0.24795878]\n",
      " ..., \n",
      " [ 0.71361979  0.39600683  0.73179298 ...,  0.34225392  0.38505072\n",
      "   0.87266948]\n",
      " [ 0.61997982  0.16194301  0.54382383 ...,  0.38505072  0.61396206\n",
      "   0.07248882]\n",
      " [ 0.08441318  0.20387892  0.24795878 ...,  0.87266948  0.07248882\n",
      "   0.49876655]]\n",
      "\n",
      " and here is what it looks like visualized\n"
     ]
    },
    {
     "data": {
      "image/png": "[encoded data removed]",
      "text/plain": [
       "<matplotlib.figure.Figure at 0x117b3e710>"
      ]
     },
     "metadata": {},
     "output_type": "display_data"
    }
   ],
   "source": [
    "## we can also calculate something slightly more complicated,\n",
    "## we'll make a fake correlation matrix from scratch, look for\n",
    "## networks using clustering analysis, and then calculate the \n",
    "## participation coefficient of a given node\n",
    "\n",
    "# generate random connectivity matrix\n",
    "gen_mtx = np.random.random((49,49))\n",
    "\n",
    "# now make its symettrical like a real connectivity matrix\n",
    "diag = gen_mtx.diagonal()\n",
    "lo_tri = np.tril(gen_mtx)\n",
    "up_tri = lo_tri.transpose()\n",
    "mtx = lo_tri + up_tri\n",
    "for i in range(49):\n",
    "    mtx[i][i] = diag[i]\n",
    "    \n",
    "print('here is our matrix \\n',mtx)\n",
    "print('\\n and here is what it looks like visualized')\n",
    "pyplot.imshow(mtx,\n",
    "              cmap=\"Greys\",\n",
    "              interpolation=\"none\")\n",
    "pyplot.show()\n",
    "    \n",
    "\n",
    "\n"
   ]
  },
  {
   "cell_type": "code",
   "execution_count": 15,
   "metadata": {
    "collapsed": false
   },
   "outputs": [
    {
     "name": "stdout",
     "output_type": "stream",
     "text": [
      "now here's the new matrix!\n"
     ]
    },
    {
     "data": {
      "image/png": "[encoded data removed]",
      "text/plain": [
       "<matplotlib.figure.Figure at 0x117b3e630>"
      ]
     },
     "metadata": {},
     "output_type": "display_data"
    }
   ],
   "source": [
    "# and lets make use partial correlations to make it slightly more sparse\n",
    "def partial_corr(C):\n",
    "    C = np.asarray(C)\n",
    "    p = C.shape[1]\n",
    "    P_corr = np.zeros((p, p), dtype=np.float)\n",
    "    for i in range(p):\n",
    "        P_corr[i, i] = 1\n",
    "        for j in range(i+1, p):\n",
    "            idx = np.ones(p, dtype=np.bool)\n",
    "            idx[i] = False\n",
    "            idx[j] = False\n",
    "            beta_i = linalg.lstsq(C[:, idx], C[:, j])[0]\n",
    "            beta_j = linalg.lstsq(C[:, idx], C[:, i])[0]\n",
    "\n",
    "            res_j = C[:, j] - C[:, idx].dot( beta_i)\n",
    "            res_i = C[:, i] - C[:, idx].dot(beta_j)\n",
    "            \n",
    "            corr = stats.pearsonr(res_i, res_j)[0]\n",
    "            P_corr[i, j] = corr\n",
    "            P_corr[j, i] = corr\n",
    "        \n",
    "    return P_corr\n",
    "\n",
    "pc_mtx = partial_corr(mtx)\n",
    "\n",
    "print('now here\\'s the new matrix!')\n",
    "pyplot.imshow(pc_mtx,\n",
    "              cmap=\"Greys\",\n",
    "              interpolation=\"none\")\n",
    "pyplot.show()\n",
    "        \n"
   ]
  },
  {
   "cell_type": "code",
   "execution_count": 16,
   "metadata": {
    "collapsed": false
   },
   "outputs": [
    {
     "name": "stdout",
     "output_type": "stream",
     "text": [
      "and here is our matrix reordered by cluster membership\n"
     ]
    },
    {
     "data": {
      "image/png": "[encoded data removed]",
      "text/plain": [
       "<matplotlib.figure.Figure at 0x11b124d68>"
      ]
     },
     "metadata": {},
     "output_type": "display_data"
    },
    {
     "name": "stdout",
     "output_type": "stream",
     "text": [
      "wow, doesn't it look like there is something real happening here?\n"
     ]
    }
   ],
   "source": [
    "# Let's make some sense out of this nonsense. We'll run clustering\n",
    "# analysis on our random connectivity matrix\n",
    "\n",
    "from sklearn.cluster import KMeans\n",
    "# run clustering analysis and get labels\n",
    "kmeans = KMeans(n_clusters=7, random_state=0).fit(pc_mtx)\n",
    "labz = kmeans.labels_.tolist()\n",
    "# reorder connectivity matrix by cluster labels\n",
    "naxis = []\n",
    "for x in range(7):\n",
    "    for i in range(49):\n",
    "        if labz[i] == x:\n",
    "            naxis.append(i)\n",
    "npc_mtx = pc_mtx[:, naxis][naxis]\n",
    "\n",
    "print('and here is our matrix reordered by cluster membership')\n",
    "pyplot.imshow(npc_mtx,\n",
    "              cmap=\"Greys\",\n",
    "              interpolation=\"none\")\n",
    "pyplot.show()\n",
    "print('wow, doesn\\'t it look like there is something real happening here?')"
   ]
  },
  {
   "cell_type": "code",
   "execution_count": 20,
   "metadata": {
    "collapsed": false
   },
   "outputs": [
    {
     "name": "stdout",
     "output_type": "stream",
     "text": [
      "the participation coefficeint for network 5 is 1.12892012045\n",
      "the participation coefficeint for network 5 is 0.161274302921\n"
     ]
    }
   ],
   "source": [
    "MAYBE TAKE THIS PART OUT\n",
    "\n",
    "## now lets calculate the participation coefficient of a node\n",
    "## you can do this with less lines using specialized functions\n",
    "## in pythons, but I want to show you that you can do it from\n",
    "## scratch as well. Because PYTHON !!!!!!!!!!!!\n",
    "\n",
    "def part_coef(mtrx,node,clust_labels):\n",
    "    con_strength = np.sum(mtrx[node])\n",
    "    to_sum = []\n",
    "    for s in range(len(set(labz))):\n",
    "        net_cons = []\n",
    "        for i in range(49):\n",
    "            if labz[i] == s:\n",
    "                net_cons.append(mtrx[node][i])\n",
    "        net_coef = (np.mean(net_cons) / con_strength)**2\n",
    "        to_sum.append(net_coef)\n",
    "    print('the participation coefficeint for network %s is %s'%(node,np.sum(to_sum)))\n",
    "    print('the participation coefficeint for network %s is %s'%(node,np.mean(to_sum)))\n",
    "\n",
    "part_coef(pc_mtx,5,labz)"
   ]
  },
  {
   "cell_type": "code",
   "execution_count": 27,
   "metadata": {
    "collapsed": false
   },
   "outputs": [
    {
     "data": {
      "image/png": "[encoded data removed]",
      "text/plain": [
       "<matplotlib.figure.Figure at 0x119e129e8>"
      ]
     },
     "metadata": {},
     "output_type": "display_data"
    },
    {
     "name": "stdout",
     "output_type": "stream",
     "text": [
      "not very pretty\n"
     ]
    },
    {
     "data": {
      "text/plain": [
       "{0: 0.026737618026206136,\n",
       " 1: 0.008858897287539727,\n",
       " 2: 0.0,\n",
       " 3: 0.0,\n",
       " 4: 0.016477696537540124,\n",
       " 5: 0.00228840830784697,\n",
       " 6: 0.05354398768450807,\n",
       " 7: 0.017083606801554675,\n",
       " 8: 0.0,\n",
       " 9: 0.0,\n",
       " 10: 0.012942836361556583,\n",
       " 11: 0.0,\n",
       " 12: 0.0033876867748616046,\n",
       " 13: 0.0,\n",
       " 14: 0.006845246998732017,\n",
       " 15: 0.0010491987822564474,\n",
       " 16: 0.007203288253579522,\n",
       " 17: 0.0,\n",
       " 18: 0.0,\n",
       " 19: 0.0,\n",
       " 20: 0.04692467862746405,\n",
       " 21: 0.030730537787154857,\n",
       " 22: 0.02826431394528344,\n",
       " 23: 0.0,\n",
       " 24: 0.0,\n",
       " 25: 0.0,\n",
       " 26: 0.03101825108216131,\n",
       " 27: 0.0,\n",
       " 28: 0.0,\n",
       " 29: 0.0,\n",
       " 30: 0.006974037977444221,\n",
       " 31: 0.016477696537540124,\n",
       " 32: 0.0,\n",
       " 33: 0.0037088488498454083,\n",
       " 34: 0.0,\n",
       " 35: 0.0,\n",
       " 36: 0.021742826054793732,\n",
       " 37: 0.039031855713820764,\n",
       " 38: 0.022101983592003036,\n",
       " 39: 0.005923275423552603,\n",
       " 40: 0.0,\n",
       " 41: 0.011994173670168532,\n",
       " 42: 0.02005729759667002,\n",
       " 43: 0.0,\n",
       " 44: 0.018167897377487918,\n",
       " 45: 0.018479343954824277,\n",
       " 46: 0.0003256591097040414,\n",
       " 47: 0.0012687799619140055,\n",
       " 48: 0.0}"
      ]
     },
     "execution_count": 27,
     "metadata": {},
     "output_type": "execute_result"
    }
   ],
   "source": [
    "## of course, we don't have to do this manually. There are\n",
    "## specialized python functions that do the dirty work for you\n",
    "\n",
    "## first lets convert this to a binarized matrix where we save\n",
    "## only the top 10% of connections\n",
    "\n",
    "flat = np.tril(pc_mtx).flatten()\n",
    "flat = [abs(x) for x in flat]\n",
    "top_no = int(len(flat) * 0.90)\n",
    "top_10 = sorted(flat)[top_no]\n",
    "bin_mtx = np.full((49,49),np.nan)\n",
    "for i in range(49):\n",
    "    for j in range(49):\n",
    "        if pc_mtx[i][j] > top_10:\n",
    "            bin_mtx[i][j] = 1\n",
    "        else:\n",
    "            bin_mtx[i][j] = 0\n",
    "nbin_mtx = bin_mtx[:, naxis][naxis]\n",
    "pyplot.imshow(nbin_mtx,\n",
    "              cmap=\"Greys\",\n",
    "              interpolation=\"none\")\n",
    "pyplot.show()\n",
    "print('not very pretty')\n",
    "\n",
    "# but assuming we had a real matrix it would look better\n",
    "# Lets run some graph metrix. Choose your poison\n",
    "\n",
    "G = nx.from_numpy_matrix(bin_mtx)\n",
    "nx.betweenness_centrality(G)\n"
   ]
  },
  {
   "cell_type": "code",
   "execution_count": 243,
   "metadata": {
    "collapsed": false
   },
   "outputs": [
    {
     "data": {
      "text/plain": [
       "7.0"
      ]
     },
     "execution_count": 243,
     "metadata": {},
     "output_type": "execute_result"
    }
   ],
   "source": [
    "## we can also run more traditional statistics like correlations\n",
    "## lets generate some fake data and run a correlation"
   ]
  },
  {
   "cell_type": "code",
   "execution_count": null,
   "metadata": {
    "collapsed": true
   },
   "outputs": [],
   "source": []
  }
 ],
 "metadata": {
  "anaconda-cloud": {},
  "kernelspec": {
   "display_name": "Python [conda env:py3]",
   "language": "python",
   "name": "conda-env-py3-py"
  },
  "language_info": {
   "codemirror_mode": {
    "name": "ipython",
    "version": 3
   },
   "file_extension": ".py",
   "mimetype": "text/x-python",
   "name": "python",
   "nbconvert_exporter": "python",
   "pygments_lexer": "ipython3",
   "version": "3.5.2"
  }
 },
 "nbformat": 4,
 "nbformat_minor": 1
}
